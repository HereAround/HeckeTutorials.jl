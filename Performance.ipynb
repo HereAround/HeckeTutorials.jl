{
 "cells": [
  {
   "cell_type": "markdown",
   "metadata": {},
   "source": [
    "# How to not write slow julia code"
   ]
  },
  {
   "cell_type": "markdown",
   "metadata": {},
   "source": [
    "# 0. Don't use global variables"
   ]
  },
  {
   "cell_type": "markdown",
   "metadata": {},
   "source": [
    "Don't do the following"
   ]
  },
  {
   "cell_type": "code",
   "execution_count": 72,
   "metadata": {},
   "outputs": [
    {
     "data": {
      "text/html": [
       "[$10$, $100$, $1000$, $10000$, $100000$, $1000000$, $10000000$, $100000000$, $1000000000$, $10000000000$]"
      ],
      "text/plain": [
       "10-element Array{Int64,1}:\n",
       "          10\n",
       "         100\n",
       "        1000\n",
       "       10000\n",
       "      100000\n",
       "     1000000\n",
       "    10000000\n",
       "   100000000\n",
       "  1000000000\n",
       " 10000000000"
      ]
     },
     "execution_count": 72,
     "metadata": {},
     "output_type": "execute_result"
    }
   ],
   "source": [
    "global parameter = 10\n",
    "function k(x)\n",
    "    return [x^i for i in 1:parameter]\n",
    "end\n",
    "k(10)"
   ]
  },
  {
   "cell_type": "markdown",
   "metadata": {},
   "source": [
    "##  1. Type stability"
   ]
  },
  {
   "cell_type": "markdown",
   "metadata": {},
   "source": [
    "A function is *type stable*, if the input types determine the output types."
   ]
  },
  {
   "cell_type": "markdown",
   "metadata": {},
   "source": [
    "### Example\n",
    "\n",
    "The following function is not type stable."
   ]
  },
  {
   "cell_type": "code",
   "execution_count": 13,
   "metadata": {},
   "outputs": [
    {
     "data": {
      "text/plain": [
       "f (generic function with 1 method)"
      ]
     },
     "execution_count": 13,
     "metadata": {},
     "output_type": "execute_result"
    }
   ],
   "source": [
    "function f(x::Int)\n",
    "  if x < 0\n",
    "    return \"negative\"\n",
    "  elseif x >= 0\n",
    "    return \"positive\"\n",
    "  else\n",
    "    return f(x)\n",
    "end\n",
    "end"
   ]
  },
  {
   "cell_type": "code",
   "execution_count": 14,
   "metadata": {},
   "outputs": [
    {
     "data": {
      "text/plain": [
       "(\"positive\", \"negative\")"
      ]
     },
     "execution_count": 14,
     "metadata": {},
     "output_type": "execute_result"
    }
   ],
   "source": [
    "f(1), f(-1)"
   ]
  },
  {
   "cell_type": "markdown",
   "metadata": {},
   "source": [
    "How to detect type instablity?"
   ]
  },
  {
   "cell_type": "code",
   "execution_count": 15,
   "metadata": {},
   "outputs": [
    {
     "name": "stdout",
     "output_type": "stream",
     "text": [
      "Variables\n",
      "  #self#\u001b[36m::Core.Compiler.Const(f, false)\u001b[39m\n",
      "  x\u001b[36m::Int64\u001b[39m\n",
      "\n",
      "Body\u001b[36m::String\u001b[39m\n",
      "\u001b[90m1 ─\u001b[39m %1 = (x < 0)\u001b[36m::Bool\u001b[39m\n",
      "\u001b[90m└──\u001b[39m      goto #3 if not %1\n",
      "\u001b[90m2 ─\u001b[39m      return \"negative\"\n",
      "\u001b[90m3 ─\u001b[39m %4 = (x >= 0)\u001b[36m::Bool\u001b[39m\n",
      "\u001b[90m└──\u001b[39m      goto #5 if not %4\n",
      "\u001b[90m4 ─\u001b[39m      return \"positive\"\n",
      "\u001b[90m5 ─\u001b[39m %7 = Main.f(x)\u001b[36m::String\u001b[39m\n",
      "\u001b[90m└──\u001b[39m      return %7\n"
     ]
    }
   ],
   "source": [
    "@code_warntype f(1)"
   ]
  },
  {
   "cell_type": "markdown",
   "metadata": {},
   "source": [
    "### Solution\n",
    "Don't write type instable code."
   ]
  },
  {
   "cell_type": "markdown",
   "metadata": {},
   "source": [
    "### Example"
   ]
  },
  {
   "cell_type": "code",
   "execution_count": 20,
   "metadata": {},
   "outputs": [
    {
     "name": "stdout",
     "output_type": "stream",
     "text": [
      "Variables\n",
      "  #self#\u001b[36m::Core.Compiler.Const(k, false)\u001b[39m\n",
      "  x\u001b[36m::Int64\u001b[39m\n",
      "  #9\u001b[36m::var\"#9#10\"{Int64}\u001b[39m\n",
      "\n",
      "Body\u001b[91m\u001b[1m::Array{T,N} where T where N\u001b[22m\u001b[39m\n",
      "\u001b[90m1 ─\u001b[39m %1 = Main.:(var\"#9#10\")\u001b[36m::Core.Compiler.Const(var\"#9#10\", false)\u001b[39m\n",
      "\u001b[90m│  \u001b[39m %2 = Core.typeof(x)\u001b[36m::Core.Compiler.Const(Int64, false)\u001b[39m\n",
      "\u001b[90m│  \u001b[39m %3 = Core.apply_type(%1, %2)\u001b[36m::Core.Compiler.Const(var\"#9#10\"{Int64}, false)\u001b[39m\n",
      "\u001b[90m│  \u001b[39m      (#9 = %new(%3, x))\n",
      "\u001b[90m│  \u001b[39m %5 = #9\u001b[36m::var\"#9#10\"{Int64}\u001b[39m\n",
      "\u001b[90m│  \u001b[39m %6 = (1:Main.parameter)\u001b[91m\u001b[1m::Any\u001b[22m\u001b[39m\n",
      "\u001b[90m│  \u001b[39m %7 = Base.Generator(%5, %6)\u001b[91m\u001b[1m::Base.Generator{_A,var\"#9#10\"{Int64}} where _A\u001b[22m\u001b[39m\n",
      "\u001b[90m│  \u001b[39m %8 = Base.collect(%7)\u001b[91m\u001b[1m::Array{T,N} where T where N\u001b[22m\u001b[39m\n",
      "\u001b[90m└──\u001b[39m      return %8\n",
      "  0.068430 seconds (41.60 k allocations: 2.148 MiB)\n"
     ]
    }
   ],
   "source": [
    "global parameter = 10\n",
    "\n",
    "function k(x)\n",
    "    return [x^i for i in 1:parameter]\n",
    "end\n",
    "@code_warntype k(10)\n",
    "@time k(100);"
   ]
  },
  {
   "cell_type": "markdown",
   "metadata": {},
   "source": [
    "### Solution"
   ]
  },
  {
   "cell_type": "code",
   "execution_count": 22,
   "metadata": {},
   "outputs": [
    {
     "name": "stdout",
     "output_type": "stream",
     "text": [
      "Variables\n",
      "  #self#\u001b[36m::Core.Compiler.Const(kk, false)\u001b[39m\n",
      "  x\u001b[36m::Int64\u001b[39m\n",
      "  parameter\u001b[36m::Int64\u001b[39m\n",
      "  #13\u001b[36m::var\"#13#14\"{Int64}\u001b[39m\n",
      "\n",
      "Body\u001b[36m::Array{Int64,1}\u001b[39m\n",
      "\u001b[90m1 ─\u001b[39m %1 = Main.:(var\"#13#14\")\u001b[36m::Core.Compiler.Const(var\"#13#14\", false)\u001b[39m\n",
      "\u001b[90m│  \u001b[39m %2 = Core.typeof(x)\u001b[36m::Core.Compiler.Const(Int64, false)\u001b[39m\n",
      "\u001b[90m│  \u001b[39m %3 = Core.apply_type(%1, %2)\u001b[36m::Core.Compiler.Const(var\"#13#14\"{Int64}, false)\u001b[39m\n",
      "\u001b[90m│  \u001b[39m      (#13 = %new(%3, x))\n",
      "\u001b[90m│  \u001b[39m %5 = #13\u001b[36m::var\"#13#14\"{Int64}\u001b[39m\n",
      "\u001b[90m│  \u001b[39m %6 = (1:parameter)\u001b[36m::Core.Compiler.PartialStruct(UnitRange{Int64}, Any[Core.Compiler.Const(1, false), Int64])\u001b[39m\n",
      "\u001b[90m│  \u001b[39m %7 = Base.Generator(%5, %6)\u001b[36m::Core.Compiler.PartialStruct(Base.Generator{UnitRange{Int64},var\"#13#14\"{Int64}}, Any[var\"#13#14\"{Int64}, Core.Compiler.PartialStruct(UnitRange{Int64}, Any[Core.Compiler.Const(1, false), Int64])])\u001b[39m\n",
      "\u001b[90m│  \u001b[39m %8 = Base.collect(%7)\u001b[36m::Array{Int64,1}\u001b[39m\n",
      "\u001b[90m└──\u001b[39m      return %8\n",
      "  0.000004 seconds (1 allocation: 160 bytes)\n"
     ]
    }
   ],
   "source": [
    "function kk(x, parameter)\n",
    "    return [x^i for i in 1:parameter]\n",
    "end\n",
    "@code_warntype kk(10, 10)\n",
    "@time kk(100, 10);"
   ]
  },
  {
   "cell_type": "markdown",
   "metadata": {},
   "source": [
    "## 2. Variables should not change type\n",
    "\n",
    "Similar to type stability but refers more to the internal structure of the function."
   ]
  },
  {
   "cell_type": "markdown",
   "metadata": {},
   "source": [
    "### Example"
   ]
  },
  {
   "cell_type": "code",
   "execution_count": 33,
   "metadata": {},
   "outputs": [
    {
     "data": {
      "text/plain": [
       "g (generic function with 2 methods)"
      ]
     },
     "execution_count": 33,
     "metadata": {},
     "output_type": "execute_result"
    }
   ],
   "source": [
    "using Hecke\n",
    "\n",
    "function g(x::RingElement, n)\n",
    "  z = 0\n",
    "  for i in 1:n\n",
    "    z = z + x^i\n",
    "  end\n",
    "  return z\n",
    "end"
   ]
  },
  {
   "cell_type": "code",
   "execution_count": 34,
   "metadata": {},
   "outputs": [
    {
     "name": "stdout",
     "output_type": "stream",
     "text": [
      "Variables\n",
      "  #self#\u001b[36m::Core.Compiler.Const(g, false)\u001b[39m\n",
      "  x\u001b[36m::fmpz\u001b[39m\n",
      "  n\u001b[36m::Int64\u001b[39m\n",
      "  z\u001b[91m\u001b[1m::Union{Int64, fmpz}\u001b[22m\u001b[39m\n",
      "  @_5\u001b[33m\u001b[1m::Union{Nothing, Tuple{Int64,Int64}}\u001b[22m\u001b[39m\n",
      "  i\u001b[36m::Int64\u001b[39m\n",
      "\n",
      "Body\u001b[91m\u001b[1m::Union{Int64, fmpz}\u001b[22m\u001b[39m\n",
      "\u001b[90m1 ─\u001b[39m       (z = 0)\n",
      "\u001b[90m│  \u001b[39m %2  = (1:n)\u001b[36m::Core.Compiler.PartialStruct(UnitRange{Int64}, Any[Core.Compiler.Const(1, false), Int64])\u001b[39m\n",
      "\u001b[90m│  \u001b[39m       (@_5 = Base.iterate(%2))\n",
      "\u001b[90m│  \u001b[39m %4  = (@_5 === nothing)\u001b[36m::Bool\u001b[39m\n",
      "\u001b[90m│  \u001b[39m %5  = Base.not_int(%4)\u001b[36m::Bool\u001b[39m\n",
      "\u001b[90m└──\u001b[39m       goto #4 if not %5\n",
      "\u001b[90m2 ┄\u001b[39m %7  = @_5::Tuple{Int64,Int64}\u001b[36m::Tuple{Int64,Int64}\u001b[39m\n",
      "\u001b[90m│  \u001b[39m       (i = Core.getfield(%7, 1))\n",
      "\u001b[90m│  \u001b[39m %9  = Core.getfield(%7, 2)\u001b[36m::Int64\u001b[39m\n",
      "\u001b[90m│  \u001b[39m %10 = z\u001b[91m\u001b[1m::Union{Int64, fmpz}\u001b[22m\u001b[39m\n",
      "\u001b[90m│  \u001b[39m %11 = (x ^ i)\u001b[36m::fmpz\u001b[39m\n",
      "\u001b[90m│  \u001b[39m       (z = %10 + %11)\n",
      "\u001b[90m│  \u001b[39m       (@_5 = Base.iterate(%2, %9))\n",
      "\u001b[90m│  \u001b[39m %14 = (@_5 === nothing)\u001b[36m::Bool\u001b[39m\n",
      "\u001b[90m│  \u001b[39m %15 = Base.not_int(%14)\u001b[36m::Bool\u001b[39m\n",
      "\u001b[90m└──\u001b[39m       goto #4 if not %15\n",
      "\u001b[90m3 ─\u001b[39m       goto #2\n",
      "\u001b[90m4 ┄\u001b[39m       return z\n"
     ]
    }
   ],
   "source": [
    "@code_warntype g(one(ZZ), 10)"
   ]
  },
  {
   "cell_type": "markdown",
   "metadata": {},
   "source": [
    "We can ignore the yellow. But the red is pretty *bad*. The problem is that at the beginning we have `z::Int`, while in the loop is added to `x`, which turns it into the same type of `x`, that is, `z::fmpz`."
   ]
  },
  {
   "cell_type": "markdown",
   "metadata": {},
   "source": [
    "### Solution\n",
    "\n",
    "Don't do it! Here we can write instead:"
   ]
  },
  {
   "cell_type": "code",
   "execution_count": 42,
   "metadata": {},
   "outputs": [
    {
     "data": {
      "text/plain": [
       "gg (generic function with 2 methods)"
      ]
     },
     "execution_count": 42,
     "metadata": {},
     "output_type": "execute_result"
    }
   ],
   "source": [
    "function gg(x::RingElement, n)\n",
    "  z = zero(parent(x))\n",
    "  for i in 1:n\n",
    "    z = z + x^i\n",
    "  end\n",
    "  return x\n",
    "end"
   ]
  },
  {
   "cell_type": "code",
   "execution_count": 41,
   "metadata": {},
   "outputs": [
    {
     "data": {
      "text/html": [
       "true"
      ],
      "text/plain": [
       "true"
      ]
     },
     "execution_count": 41,
     "metadata": {},
     "output_type": "execute_result"
    }
   ],
   "source": [
    "R = GF(3)\n",
    "x = R(1)\n",
    "typeof(x) === typeof(GF(5)(1))"
   ]
  },
  {
   "cell_type": "code",
   "execution_count": 44,
   "metadata": {},
   "outputs": [
    {
     "name": "stdout",
     "output_type": "stream",
     "text": [
      "Variables\n",
      "  #self#\u001b[36m::Core.Compiler.Const(gg, false)\u001b[39m\n",
      "  x\u001b[36m::Nemo.gfp_elem\u001b[39m\n",
      "  n\u001b[36m::Int64\u001b[39m\n",
      "  z\u001b[36m::Nemo.gfp_elem\u001b[39m\n",
      "  @_5\u001b[33m\u001b[1m::Union{Nothing, Tuple{Int64,Int64}}\u001b[22m\u001b[39m\n",
      "  i\u001b[36m::Int64\u001b[39m\n",
      "\n",
      "Body\u001b[36m::Nemo.gfp_elem\u001b[39m\n",
      "\u001b[90m1 ─\u001b[39m %1  = Main.parent(x)\u001b[36m::Nemo.GaloisField\u001b[39m\n",
      "\u001b[90m│  \u001b[39m       (z = Main.zero(%1))\n",
      "\u001b[90m│  \u001b[39m %3  = (1:n)\u001b[36m::Core.Compiler.PartialStruct(UnitRange{Int64}, Any[Core.Compiler.Const(1, false), Int64])\u001b[39m\n",
      "\u001b[90m│  \u001b[39m       (@_5 = Base.iterate(%3))\n",
      "\u001b[90m│  \u001b[39m %5  = (@_5 === nothing)\u001b[36m::Bool\u001b[39m\n",
      "\u001b[90m│  \u001b[39m %6  = Base.not_int(%5)\u001b[36m::Bool\u001b[39m\n",
      "\u001b[90m└──\u001b[39m       goto #4 if not %6\n",
      "\u001b[90m2 ┄\u001b[39m %8  = @_5::Tuple{Int64,Int64}\u001b[36m::Tuple{Int64,Int64}\u001b[39m\n",
      "\u001b[90m│  \u001b[39m       (i = Core.getfield(%8, 1))\n",
      "\u001b[90m│  \u001b[39m %10 = Core.getfield(%8, 2)\u001b[36m::Int64\u001b[39m\n",
      "\u001b[90m│  \u001b[39m %11 = z\u001b[36m::Nemo.gfp_elem\u001b[39m\n",
      "\u001b[90m│  \u001b[39m %12 = (x ^ i)\u001b[36m::Nemo.gfp_elem\u001b[39m\n",
      "\u001b[90m│  \u001b[39m       (z = %11 + %12)\n",
      "\u001b[90m│  \u001b[39m       (@_5 = Base.iterate(%3, %10))\n",
      "\u001b[90m│  \u001b[39m %15 = (@_5 === nothing)\u001b[36m::Bool\u001b[39m\n",
      "\u001b[90m│  \u001b[39m %16 = Base.not_int(%15)\u001b[36m::Bool\u001b[39m\n",
      "\u001b[90m└──\u001b[39m       goto #4 if not %16\n",
      "\u001b[90m3 ─\u001b[39m       goto #2\n",
      "\u001b[90m4 ┄\u001b[39m       return x\n"
     ]
    }
   ],
   "source": [
    "@code_warntype gg(x, 10)"
   ]
  },
  {
   "cell_type": "markdown",
   "metadata": {},
   "source": [
    "## 3. Be explicit about the element type of arrays"
   ]
  },
  {
   "cell_type": "markdown",
   "metadata": {},
   "source": [
    "### Example"
   ]
  },
  {
   "cell_type": "code",
   "execution_count": 29,
   "metadata": {},
   "outputs": [
    {
     "data": {
      "text/plain": [
       "get_powers (generic function with 1 method)"
      ]
     },
     "execution_count": 29,
     "metadata": {},
     "output_type": "execute_result"
    }
   ],
   "source": [
    "function get_powers(x::RingElement, i::Int)\n",
    "  r = []\n",
    "  for j in 1:i\n",
    "    push!(r, x^j)\n",
    "  end\n",
    "  return r[i]\n",
    "end"
   ]
  },
  {
   "cell_type": "code",
   "execution_count": 19,
   "metadata": {},
   "outputs": [
    {
     "name": "stdout",
     "output_type": "stream",
     "text": [
      "Variables\n",
      "  #self#\u001b[36m::Core.Compiler.Const(get_powers, false)\u001b[39m\n",
      "  x\u001b[36m::fmpz\u001b[39m\n",
      "  i\u001b[36m::Int64\u001b[39m\n",
      "  r\u001b[36m::Array{Any,1}\u001b[39m\n",
      "  @_5\u001b[33m\u001b[1m::Union{Nothing, Tuple{Int64,Int64}}\u001b[22m\u001b[39m\n",
      "  j\u001b[36m::Int64\u001b[39m\n",
      "\n",
      "Body\u001b[91m\u001b[1m::Any\u001b[22m\u001b[39m\n",
      "\u001b[90m1 ─\u001b[39m       (r = Base.vect())\n",
      "\u001b[90m│  \u001b[39m %2  = (1:i)\u001b[36m::Core.Compiler.PartialStruct(UnitRange{Int64}, Any[Core.Compiler.Const(1, false), Int64])\u001b[39m\n",
      "\u001b[90m│  \u001b[39m       (@_5 = Base.iterate(%2))\n",
      "\u001b[90m│  \u001b[39m %4  = (@_5 === nothing)\u001b[36m::Bool\u001b[39m\n",
      "\u001b[90m│  \u001b[39m %5  = Base.not_int(%4)\u001b[36m::Bool\u001b[39m\n",
      "\u001b[90m└──\u001b[39m       goto #4 if not %5\n",
      "\u001b[90m2 ┄\u001b[39m %7  = @_5::Tuple{Int64,Int64}\u001b[36m::Tuple{Int64,Int64}\u001b[39m\n",
      "\u001b[90m│  \u001b[39m       (j = Core.getfield(%7, 1))\n",
      "\u001b[90m│  \u001b[39m %9  = Core.getfield(%7, 2)\u001b[36m::Int64\u001b[39m\n",
      "\u001b[90m│  \u001b[39m %10 = r\u001b[36m::Array{Any,1}\u001b[39m\n",
      "\u001b[90m│  \u001b[39m %11 = (x ^ j)\u001b[36m::fmpz\u001b[39m\n",
      "\u001b[90m│  \u001b[39m       Main.push!(%10, %11)\n",
      "\u001b[90m│  \u001b[39m       (@_5 = Base.iterate(%2, %9))\n",
      "\u001b[90m│  \u001b[39m %14 = (@_5 === nothing)\u001b[36m::Bool\u001b[39m\n",
      "\u001b[90m│  \u001b[39m %15 = Base.not_int(%14)\u001b[36m::Bool\u001b[39m\n",
      "\u001b[90m└──\u001b[39m       goto #4 if not %15\n",
      "\u001b[90m3 ─\u001b[39m       goto #2\n",
      "\u001b[90m4 ┄\u001b[39m %18 = Base.getindex(r, i)\u001b[91m\u001b[1m::Any\u001b[22m\u001b[39m\n",
      "\u001b[90m└──\u001b[39m       return %18\n"
     ]
    }
   ],
   "source": [
    "@code_warntype get_powers(ZZ(3), 2)"
   ]
  },
  {
   "cell_type": "markdown",
   "metadata": {},
   "source": [
    "The problem is that `r = []` is the same as `r = Any[]`. Thus when accessing `r`, julia does not know what the return type will be."
   ]
  },
  {
   "cell_type": "code",
   "execution_count": 47,
   "metadata": {},
   "outputs": [
    {
     "name": "stdout",
     "output_type": "stream",
     "text": [
      "Variables\n",
      "  #self#\u001b[36m::Core.Compiler.Const(l, false)\u001b[39m\n",
      "  x\u001b[36m::Int64\u001b[39m\n",
      "  #15\u001b[36m::var\"#15#16\"\u001b[39m\n",
      "\n",
      "Body\u001b[36m::Array{Int64,1}\u001b[39m\n",
      "\u001b[90m1 ─\u001b[39m      (#15 = %new(Main.:(var\"#15#16\")))\n",
      "\u001b[90m│  \u001b[39m %2 = #15\u001b[36m::Core.Compiler.Const(var\"#15#16\"(), false)\u001b[39m\n",
      "\u001b[90m│  \u001b[39m %3 = (1:x)\u001b[36m::Core.Compiler.PartialStruct(UnitRange{Int64}, Any[Core.Compiler.Const(1, false), Int64])\u001b[39m\n",
      "\u001b[90m│  \u001b[39m %4 = Base.Generator(%2, %3)\u001b[36m::Core.Compiler.PartialStruct(Base.Generator{UnitRange{Int64},var\"#15#16\"}, Any[Core.Compiler.Const(var\"#15#16\"(), false), Core.Compiler.PartialStruct(UnitRange{Int64}, Any[Core.Compiler.Const(1, false), Int64])])\u001b[39m\n",
      "\u001b[90m│  \u001b[39m %5 = Base.collect(%4)\u001b[36m::Array{Int64,1}\u001b[39m\n",
      "\u001b[90m└──\u001b[39m      return %5\n"
     ]
    }
   ],
   "source": [
    "l(x) = [ 2^x for x in 1:x]; @code_warntype l(10)"
   ]
  },
  {
   "cell_type": "markdown",
   "metadata": {},
   "source": [
    "### Solution\n",
    "Always annotate the elem type of arrays."
   ]
  },
  {
   "cell_type": "code",
   "execution_count": 20,
   "metadata": {},
   "outputs": [
    {
     "data": {
      "text/plain": [
       "get_powers2 (generic function with 1 method)"
      ]
     },
     "execution_count": 20,
     "metadata": {},
     "output_type": "execute_result"
    }
   ],
   "source": [
    "function get_powers2(x::RingElement, i::Int)\n",
    "  r = typeof(x)[]\n",
    "  for j in 1:i\n",
    "    push!(r, x^j)\n",
    "  end\n",
    "  return r[i]\n",
    "end"
   ]
  },
  {
   "cell_type": "code",
   "execution_count": 21,
   "metadata": {},
   "outputs": [
    {
     "name": "stdout",
     "output_type": "stream",
     "text": [
      "Variables\n",
      "  #self#\u001b[36m::Core.Compiler.Const(get_powers2, false)\u001b[39m\n",
      "  x\u001b[36m::fmpz\u001b[39m\n",
      "  i\u001b[36m::Int64\u001b[39m\n",
      "  r\u001b[36m::Array{fmpz,1}\u001b[39m\n",
      "  @_5\u001b[33m\u001b[1m::Union{Nothing, Tuple{Int64,Int64}}\u001b[22m\u001b[39m\n",
      "  j\u001b[36m::Int64\u001b[39m\n",
      "\n",
      "Body\u001b[36m::fmpz\u001b[39m\n",
      "\u001b[90m1 ─\u001b[39m %1  = Main.typeof(x)\u001b[36m::Core.Compiler.Const(fmpz, false)\u001b[39m\n",
      "\u001b[90m│  \u001b[39m       (r = Base.getindex(%1))\n",
      "\u001b[90m│  \u001b[39m %3  = (1:i)\u001b[36m::Core.Compiler.PartialStruct(UnitRange{Int64}, Any[Core.Compiler.Const(1, false), Int64])\u001b[39m\n",
      "\u001b[90m│  \u001b[39m       (@_5 = Base.iterate(%3))\n",
      "\u001b[90m│  \u001b[39m %5  = (@_5 === nothing)\u001b[36m::Bool\u001b[39m\n",
      "\u001b[90m│  \u001b[39m %6  = Base.not_int(%5)\u001b[36m::Bool\u001b[39m\n",
      "\u001b[90m└──\u001b[39m       goto #4 if not %6\n",
      "\u001b[90m2 ┄\u001b[39m %8  = @_5::Tuple{Int64,Int64}\u001b[36m::Tuple{Int64,Int64}\u001b[39m\n",
      "\u001b[90m│  \u001b[39m       (j = Core.getfield(%8, 1))\n",
      "\u001b[90m│  \u001b[39m %10 = Core.getfield(%8, 2)\u001b[36m::Int64\u001b[39m\n",
      "\u001b[90m│  \u001b[39m %11 = r\u001b[36m::Array{fmpz,1}\u001b[39m\n",
      "\u001b[90m│  \u001b[39m %12 = (x ^ j)\u001b[36m::fmpz\u001b[39m\n",
      "\u001b[90m│  \u001b[39m       Main.push!(%11, %12)\n",
      "\u001b[90m│  \u001b[39m       (@_5 = Base.iterate(%3, %10))\n",
      "\u001b[90m│  \u001b[39m %15 = (@_5 === nothing)\u001b[36m::Bool\u001b[39m\n",
      "\u001b[90m│  \u001b[39m %16 = Base.not_int(%15)\u001b[36m::Bool\u001b[39m\n",
      "\u001b[90m└──\u001b[39m       goto #4 if not %16\n",
      "\u001b[90m3 ─\u001b[39m       goto #2\n",
      "\u001b[90m4 ┄\u001b[39m %19 = Base.getindex(r, i)\u001b[36m::fmpz\u001b[39m\n",
      "\u001b[90m└──\u001b[39m       return %19\n"
     ]
    }
   ],
   "source": [
    "@code_warntype get_powers2(ZZ(3), 2)"
   ]
  },
  {
   "cell_type": "markdown",
   "metadata": {},
   "source": [
    "Alternatively:"
   ]
  },
  {
   "cell_type": "code",
   "execution_count": 28,
   "metadata": {},
   "outputs": [
    {
     "data": {
      "text/plain": [
       "get_powers3 (generic function with 1 method)"
      ]
     },
     "execution_count": 28,
     "metadata": {},
     "output_type": "execute_result"
    }
   ],
   "source": [
    "function get_powers3(x::T, i::Int) where T <: RingElement\n",
    "  r = T[]\n",
    "  for j in 1:i\n",
    "    push!(r, x^j)\n",
    "  end\n",
    "  return r[i]\n",
    "end"
   ]
  },
  {
   "cell_type": "markdown",
   "metadata": {},
   "source": [
    "### Example"
   ]
  },
  {
   "cell_type": "code",
   "execution_count": 24,
   "metadata": {},
   "outputs": [
    {
     "data": {
      "text/plain": [
       "count_to_10 (generic function with 1 method)"
      ]
     },
     "execution_count": 24,
     "metadata": {},
     "output_type": "execute_result"
    }
   ],
   "source": [
    "function count_to_10(R::Hecke.Ring)\n",
    "  r = []\n",
    "  for i in 1:10\n",
    "    push!(r, R(i))\n",
    "  end\n",
    "  return r\n",
    "end"
   ]
  },
  {
   "cell_type": "code",
   "execution_count": 25,
   "metadata": {},
   "outputs": [
    {
     "name": "stdout",
     "output_type": "stream",
     "text": [
      "Variables\n",
      "  #self#\u001b[36m::Core.Compiler.Const(count_to_10, false)\u001b[39m\n",
      "  R\u001b[36m::FlintIntegerRing\u001b[39m\n",
      "  r\u001b[36m::Array{Any,1}\u001b[39m\n",
      "  @_4\u001b[33m\u001b[1m::Union{Nothing, Tuple{Int64,Int64}}\u001b[22m\u001b[39m\n",
      "  i\u001b[36m::Int64\u001b[39m\n",
      "\n",
      "Body\u001b[36m::Array{Any,1}\u001b[39m\n",
      "\u001b[90m1 ─\u001b[39m       (r = Base.vect())\n",
      "\u001b[90m│  \u001b[39m %2  = (1:10)\u001b[36m::Core.Compiler.Const(1:10, false)\u001b[39m\n",
      "\u001b[90m│  \u001b[39m       (@_4 = Base.iterate(%2))\n",
      "\u001b[90m│  \u001b[39m %4  = (@_4::Core.Compiler.Const((1, 1), false) === nothing)\u001b[36m::Core.Compiler.Const(false, false)\u001b[39m\n",
      "\u001b[90m│  \u001b[39m %5  = Base.not_int(%4)\u001b[36m::Core.Compiler.Const(true, false)\u001b[39m\n",
      "\u001b[90m└──\u001b[39m       goto #4 if not %5\n",
      "\u001b[90m2 ┄\u001b[39m %7  = @_4::Tuple{Int64,Int64}\u001b[36m::Tuple{Int64,Int64}\u001b[39m\n",
      "\u001b[90m│  \u001b[39m       (i = Core.getfield(%7, 1))\n",
      "\u001b[90m│  \u001b[39m %9  = Core.getfield(%7, 2)\u001b[36m::Int64\u001b[39m\n",
      "\u001b[90m│  \u001b[39m %10 = r\u001b[36m::Array{Any,1}\u001b[39m\n",
      "\u001b[90m│  \u001b[39m %11 = (R)(i)\u001b[36m::fmpz\u001b[39m\n",
      "\u001b[90m│  \u001b[39m       Main.push!(%10, %11)\n",
      "\u001b[90m│  \u001b[39m       (@_4 = Base.iterate(%2, %9))\n",
      "\u001b[90m│  \u001b[39m %14 = (@_4 === nothing)\u001b[36m::Bool\u001b[39m\n",
      "\u001b[90m│  \u001b[39m %15 = Base.not_int(%14)\u001b[36m::Bool\u001b[39m\n",
      "\u001b[90m└──\u001b[39m       goto #4 if not %15\n",
      "\u001b[90m3 ─\u001b[39m       goto #2\n",
      "\u001b[90m4 ┄\u001b[39m       return r\n"
     ]
    }
   ],
   "source": [
    "@code_warntype count_to_10(ZZ)"
   ]
  },
  {
   "cell_type": "markdown",
   "metadata": {},
   "source": [
    "### Solution"
   ]
  },
  {
   "cell_type": "code",
   "execution_count": 26,
   "metadata": {},
   "outputs": [
    {
     "data": {
      "text/plain": [
       "count_to_10_better (generic function with 1 method)"
      ]
     },
     "execution_count": 26,
     "metadata": {},
     "output_type": "execute_result"
    }
   ],
   "source": [
    "function count_to_10_better(R::Hecke.Ring)\n",
    "  r = elem_type(R)[]\n",
    "  for i in 1:10\n",
    "    push!(r, R(i))\n",
    "  end\n",
    "  return r\n",
    "end"
   ]
  },
  {
   "cell_type": "code",
   "execution_count": 27,
   "metadata": {},
   "outputs": [
    {
     "name": "stdout",
     "output_type": "stream",
     "text": [
      "Variables\n",
      "  #self#\u001b[36m::Core.Compiler.Const(count_to_10_better, false)\u001b[39m\n",
      "  R\u001b[36m::FlintIntegerRing\u001b[39m\n",
      "  r\u001b[36m::Array{fmpz,1}\u001b[39m\n",
      "  @_4\u001b[33m\u001b[1m::Union{Nothing, Tuple{Int64,Int64}}\u001b[22m\u001b[39m\n",
      "  i\u001b[36m::Int64\u001b[39m\n",
      "\n",
      "Body\u001b[36m::Array{fmpz,1}\u001b[39m\n",
      "\u001b[90m1 ─\u001b[39m %1  = Main.elem_type(R)\u001b[36m::Core.Compiler.Const(fmpz, false)\u001b[39m\n",
      "\u001b[90m│  \u001b[39m       (r = Base.getindex(%1))\n",
      "\u001b[90m│  \u001b[39m %3  = (1:10)\u001b[36m::Core.Compiler.Const(1:10, false)\u001b[39m\n",
      "\u001b[90m│  \u001b[39m       (@_4 = Base.iterate(%3))\n",
      "\u001b[90m│  \u001b[39m %5  = (@_4::Core.Compiler.Const((1, 1), false) === nothing)\u001b[36m::Core.Compiler.Const(false, false)\u001b[39m\n",
      "\u001b[90m│  \u001b[39m %6  = Base.not_int(%5)\u001b[36m::Core.Compiler.Const(true, false)\u001b[39m\n",
      "\u001b[90m└──\u001b[39m       goto #4 if not %6\n",
      "\u001b[90m2 ┄\u001b[39m %8  = @_4::Tuple{Int64,Int64}\u001b[36m::Tuple{Int64,Int64}\u001b[39m\n",
      "\u001b[90m│  \u001b[39m       (i = Core.getfield(%8, 1))\n",
      "\u001b[90m│  \u001b[39m %10 = Core.getfield(%8, 2)\u001b[36m::Int64\u001b[39m\n",
      "\u001b[90m│  \u001b[39m %11 = r\u001b[36m::Array{fmpz,1}\u001b[39m\n",
      "\u001b[90m│  \u001b[39m %12 = (R)(i)\u001b[36m::fmpz\u001b[39m\n",
      "\u001b[90m│  \u001b[39m       Main.push!(%11, %12)\n",
      "\u001b[90m│  \u001b[39m       (@_4 = Base.iterate(%3, %10))\n",
      "\u001b[90m│  \u001b[39m %15 = (@_4 === nothing)\u001b[36m::Bool\u001b[39m\n",
      "\u001b[90m│  \u001b[39m %16 = Base.not_int(%15)\u001b[36m::Bool\u001b[39m\n",
      "\u001b[90m└──\u001b[39m       goto #4 if not %16\n",
      "\u001b[90m3 ─\u001b[39m       goto #2\n",
      "\u001b[90m4 ┄\u001b[39m       return r\n"
     ]
    }
   ],
   "source": [
    "@code_warntype count_to_10_better(ZZ)"
   ]
  },
  {
   "cell_type": "markdown",
   "metadata": {},
   "source": [
    "The functions `elem_type`, `parent_type`, `dense_matrix_type` help with manipulations on the type side."
   ]
  },
  {
   "cell_type": "code",
   "execution_count": 49,
   "metadata": {},
   "outputs": [
    {
     "data": {
      "text/html": [
       "(fmpz, FlintIntegerRing, fmpz_mat, gfp_elem)"
      ],
      "text/plain": [
       "(fmpz, FlintIntegerRing, fmpz_mat, Nemo.gfp_elem)"
      ]
     },
     "execution_count": 49,
     "metadata": {},
     "output_type": "execute_result"
    }
   ],
   "source": [
    "elem_type(ZZ), parent_type(ZZ(1)), dense_matrix_type(ZZ), elem_type(FiniteField(3))"
   ]
  },
  {
   "cell_type": "markdown",
   "metadata": {},
   "source": [
    "# 4. If you have to work with instabilities, help the compiler\n",
    "There are situations, where writing type unstable is unavoidable. Here is an example"
   ]
  },
  {
   "cell_type": "code",
   "execution_count": 52,
   "metadata": {},
   "outputs": [],
   "source": [
    "mutable struct A\n",
    "  x\n",
    "end"
   ]
  },
  {
   "cell_type": "code",
   "execution_count": 60,
   "metadata": {},
   "outputs": [
    {
     "name": "stdout",
     "output_type": "stream",
     "text": [
      "Variables\n",
      "  #self#\u001b[36m::Core.Compiler.Const(getproperty, false)\u001b[39m\n",
      "  x\u001b[36m::A\u001b[39m\n",
      "  f\u001b[36m::Symbol\u001b[39m\n",
      "\n",
      "Body\u001b[91m\u001b[1m::Any\u001b[22m\u001b[39m\n",
      "\u001b[90m1 ─\u001b[39m %1 = Base.getfield(x, f)\u001b[91m\u001b[1m::Any\u001b[22m\u001b[39m\n",
      "\u001b[90m└──\u001b[39m      return %1\n"
     ]
    }
   ],
   "source": [
    "R = A(2); @code_warntype R.x"
   ]
  },
  {
   "cell_type": "code",
   "execution_count": 58,
   "metadata": {},
   "outputs": [
    {
     "data": {
      "text/plain": [
       "get_x (generic function with 1 method)"
      ]
     },
     "execution_count": 58,
     "metadata": {},
     "output_type": "execute_result"
    }
   ],
   "source": [
    "function get_x(R::A)\n",
    "  return R.x::Int\n",
    "end"
   ]
  },
  {
   "cell_type": "code",
   "execution_count": 61,
   "metadata": {},
   "outputs": [
    {
     "name": "stdout",
     "output_type": "stream",
     "text": [
      "Variables\n",
      "  #self#\u001b[36m::Core.Compiler.Const(get_x, false)\u001b[39m\n",
      "  R\u001b[36m::A\u001b[39m\n",
      "\n",
      "Body\u001b[36m::Int64\u001b[39m\n",
      "\u001b[90m1 ─\u001b[39m %1 = Base.getproperty(R, :x)\u001b[91m\u001b[1m::Any\u001b[22m\u001b[39m\n",
      "\u001b[90m│  \u001b[39m %2 = Core.typeassert(%1, Main.Int)\u001b[36m::Int64\u001b[39m\n",
      "\u001b[90m└──\u001b[39m      return %2\n"
     ]
    }
   ],
   "source": [
    "@code_warntype get_x(R)"
   ]
  },
  {
   "cell_type": "markdown",
   "metadata": {},
   "source": [
    "Notice the `typeassert`!"
   ]
  },
  {
   "cell_type": "markdown",
   "metadata": {},
   "source": [
    "## Random tipps\n",
    "- Skim over https://docs.julialang.org/en/v1/manual/performance-tips/\n",
    "- For deeply nested code (or keyword arguments), use https://github.com/JuliaDebug/Cthulhu.jl (Demo)\n",
    "- If your functions allocate a lot of memory (when timed with `@btime` or `@time`), chances are high that there is type instability. Check with `@code_warntype`."
   ]
  }
 ],
 "metadata": {
  "kernelspec": {
   "display_name": "Julia 1.5.1",
   "language": "julia",
   "name": "julia-1.5"
  },
  "language_info": {
   "file_extension": ".jl",
   "mimetype": "application/julia",
   "name": "julia",
   "version": "1.5.1"
  }
 },
 "nbformat": 4,
 "nbformat_minor": 4
}
