{
 "cells": [
  {
   "cell_type": "markdown",
   "metadata": {
    "slideshow": {
     "slide_type": "slide"
    }
   },
   "source": [
    "# Programming in julia/Hecke/Oscar - Session 3"
   ]
  },
  {
   "cell_type": "markdown",
   "metadata": {
    "slideshow": {
     "slide_type": "slide"
    }
   },
   "source": [
    "## Tests"
   ]
  },
  {
   "cell_type": "markdown",
   "metadata": {
    "slideshow": {
     "slide_type": "fragment"
    }
   },
   "source": [
    "All packages in the Oscar ecosystem (GAP, Singular, Hecke, Polymake,...) have tests, which are run automatically when a pull request is opened (or changes are pushed to the repository). The important thing is that they run all architectures and julia versions support (in particular the architecture that a developer is not developing on).\n"
   ]
  },
  {
   "cell_type": "markdown",
   "metadata": {
    "slideshow": {
     "slide_type": "slide"
    }
   },
   "source": [
    "### Where are the tests?\n",
    "\n",
    "There is a standard layout for tests in julia packages. For example, the code for the tests of Hecke are found in\n",
    "```\n",
    "    Hecke/test/*\n",
    "```\n",
    "The tests are usually split up into different files. The organization of the test files depends on the particular package.\n",
    "\n",
    "In Hecke, we try to mirror the source directory in the test directory. For example, the tests for the functions in\n",
    "```\n",
    "    Hecke/src/QuadForm/Quad/ZLattices.jl\n",
    "```\n",
    "are found in\n",
    "```\n",
    "    Hecke/test/QuadForm/Quad/ZLattices.jl\n",
    "```"
   ]
  },
  {
   "cell_type": "markdown",
   "metadata": {
    "slideshow": {
     "slide_type": "slide"
    }
   },
   "source": [
    "### How to run the tests\n",
    "\n",
    "To run all the tests of a package, one can invoke `Pkg.test(\"Hecke\")` (or `]test Hecke`) (note that the whole testsuite takes 20 - 30 minutes to finish). Usually, when developing, one does not want to run all the tests, as this is too time consuming. In Hecke, one can invoke a subset of the sets by using the following command:\n",
    "```julia\n",
    "    Hecke.test_module(\"QuadForm/Quad/ZLattices\")\n",
    "```\n",
    "This will run the tests found in `Hecke/test/QuadForm/Quad/ZLattices.jl`. If one wants to run all tests inside `Hecke/test/QuadForm/Quad`, one can use the command\n",
    "```julia\n",
    "    Hecke.test_module(\"QuadForm/Quad\")\n",
    "```"
   ]
  },
  {
   "cell_type": "markdown",
   "metadata": {
    "slideshow": {
     "slide_type": "slide"
    }
   },
   "source": [
    "### How to add a test?\n",
    "\n",
    "As an example, assume that we want to add a test for the function `scale(L::ZLat)`, which computes the scale of a $\\mathbf Z$-lattice (this function exists already). Since this function resides in `Hecke/src/QuadForm/Quad/ZLattices.jl`, we open the file `Hecke/test/QuadForm/Quad/ZLattices.jl`, which will look like:\n",
    "\n",
    "```julia\n",
    "# some helper functions here\n",
    "...\n",
    "\n",
    "@testset \"Zlattices\" begin\n",
    "  # all the other tests that are already there\n",
    "end\n",
    "```\n",
    "Then, we just insert our tests at the end of this `@testset` block, for example, we may include\n",
    "```julia\n",
    "\n",
    "L = Zlattice(;gram = matrix(ZZ, 2, 2, [2, 1, 1, 2]))\n",
    "@test scale(L) == 2\n",
    "    \n",
    "L = Zlattice(;gram = matrix(QQ, 2, 2, [2//3, 5, 5, 2//3]))\n",
    "@test scale(L) == 1//3\n",
    "```\n",
    "(What we add must be inside the `@testset` block, that is, before the last `end`).\n",
    "\n",
    "Once we are happy with our tests, we can run `Hecke.test_module(\"QuadForm/Quad/ZLattices\")` inside a julia session."
   ]
  },
  {
   "cell_type": "markdown",
   "metadata": {
    "slideshow": {
     "slide_type": "slide"
    }
   },
   "source": [
    "### Using `@test` in a julia session\n",
    "\n",
    "To try something interactively, one might want to copy code from the test files into a julia session:\n",
    "```julia\n",
    "julia> L = Zlattice(;gram = matrix(QQ, 2, 2, [2//3, 5, 5, 2//3]))\n",
    "Quadratic lattice of rank 2 and degree 2 over the rationals\n",
    "\n",
    "julia> @test scale(L) == 1//3\n",
    "ERROR: LoadError: UndefVarError: @test not defined\n",
    "in expression starting at REPL[28]:1\n",
    "\n",
    "```\n",
    "Hm, an error? The problem is that `@test` comes from the `Test` package, which is included in the standard library, but not loaded automatically. Thus we have to do the following:\n",
    "```julia\n",
    "julia> using Test\n",
    "\n",
    "julia> @test scale(L) == 1//3\n",
    "Test Passed\n",
    "```"
   ]
  }
 ],
 "metadata": {
  "celltoolbar": "Raw Cell Format",
  "kernelspec": {
   "display_name": "Julia 1.5.1",
   "language": "julia",
   "name": "julia-1.5"
  },
  "language_info": {
   "file_extension": ".jl",
   "mimetype": "application/julia",
   "name": "julia",
   "version": "1.5.1"
  }
 },
 "nbformat": 4,
 "nbformat_minor": 4
}
