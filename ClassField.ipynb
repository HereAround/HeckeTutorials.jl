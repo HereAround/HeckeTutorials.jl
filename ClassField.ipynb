{
 "cells": [
  {
   "cell_type": "code",
   "execution_count": 1,
   "metadata": {},
   "outputs": [
    {
     "name": "stderr",
     "output_type": "stream",
     "text": [
      "┌ Info: Precompiling Hecke [3e1990a7-5d81-5526-99ce-9ba3ff248f21]\n",
      "└ @ Base loading.jl:1260\n"
     ]
    },
    {
     "name": "stdout",
     "output_type": "stream",
     "text": [
      "\n",
      "Welcome to Nemo version 0.16.4-dev\n",
      "\n",
      "Nemo comes with absolutely no warranty whatsoever\n",
      "\n",
      "\n",
      "Welcome to Nemo version 0.16.4-dev\n",
      "\n",
      "Nemo comes with absolutely no warranty whatsoever\n",
      "\n",
      "\n",
      "Welcome to \n"
     ]
    },
    {
     "data": {
      "text/html": [
       "$\\require{action}$"
      ]
     },
     "metadata": {},
     "output_type": "display_data"
    },
    {
     "name": "stdout",
     "output_type": "stream",
     "text": [
      "\n",
      "\u001b[31m    _    _           _\u001b[39m\n",
      "\u001b[31m   | |  | |         | |\u001b[39m\n",
      "\u001b[31m   | |__| | ___  ___| | _____\u001b[39m\n",
      "\u001b[31m   |  __  |/ _ \\/ __| |/ / _ \\\u001b[39m\n",
      "\u001b[31m   | |  | |  __/ (__|   <  __/\u001b[39m\n",
      "\u001b[31m   |_|  |_|\\___|\\___|_|\\_\\___|\u001b[39m\n",
      "\u001b[31m    \u001b[39m\n",
      "Version\u001b[32m 0.7.3-dev \u001b[39m... \n",
      " ... which comes with absolutely no warranty whatsoever\n",
      "(c) 2015-2019 by Claus Fieker, Tommy Hofmann and Carlo Sircana\n",
      "\n"
     ]
    }
   ],
   "source": [
    "using Hecke\n"
   ]
  },
  {
   "cell_type": "code",
   "execution_count": 2,
   "metadata": {},
   "outputs": [
    {
     "data": {
      "text/html": [
       "($K$, $\\alpha$)"
      ],
      "text/plain": [
       "(Number field over Rational Field with defining polynomial t^3+13*t^2-13*t+13, _a)"
      ]
     },
     "execution_count": 2,
     "metadata": {},
     "output_type": "execute_result"
    }
   ],
   "source": [
    "Qt, t = QQ[\"t\"];\n",
    "K, a = number_field(t^3+13t^2-13t+13)\n"
   ]
  },
  {
   "cell_type": "code",
   "execution_count": 3,
   "metadata": {},
   "outputs": [
    {
     "data": {
      "text/html": [
       "$t^{3}+13t^{2}-13t+13$"
      ],
      "text/plain": [
       "t^3+13*t^2-13*t+13"
      ]
     },
     "execution_count": 3,
     "metadata": {},
     "output_type": "execute_result"
    }
   ],
   "source": [
    "defining_polynomial(K)"
   ]
  },
  {
   "cell_type": "code",
   "execution_count": 4,
   "metadata": {},
   "outputs": [
    {
     "data": {
      "text/html": [
       "$0$"
      ],
      "text/plain": [
       "0"
      ]
     },
     "execution_count": 4,
     "metadata": {},
     "output_type": "execute_result"
    }
   ],
   "source": [
    "ans(a)"
   ]
  },
  {
   "cell_type": "code",
   "execution_count": 5,
   "metadata": {},
   "outputs": [],
   "source": [
    "E, g = number_field([t^2-2, t^2-3, t^2-5], [\"s2\", \"s3\", \"s5\"]);\n"
   ]
  },
  {
   "cell_type": "code",
   "execution_count": 6,
   "metadata": {},
   "outputs": [
    {
     "data": {
      "text/html": [
       "$[2, 3, 5]$"
      ],
      "text/plain": [
       "3-element Array{NfAbsNSElem,1}:\n",
       " 2\n",
       " 3\n",
       " 5"
      ]
     },
     "execution_count": 6,
     "metadata": {},
     "output_type": "execute_result"
    }
   ],
   "source": [
    "[x^2 for x = g]"
   ]
  },
  {
   "cell_type": "code",
   "execution_count": 7,
   "metadata": {},
   "outputs": [
    {
     "data": {
      "text/html": [
       "($Es$, $phi: Es\\to E$)"
      ],
      "text/plain": [
       "(Number field over Rational Field with defining polynomial x^8-40*x^6+352*x^4-960*x^2+576, Map with following data\n",
       "Domain:\n",
       "=======\n",
       "Number field over Rational Field with defining polynomial x^8-40*x^6+352*x^4-960*x^2+576\n",
       "Codomain:\n",
       "=========\n",
       "E\n",
       ")"
      ]
     },
     "execution_count": 7,
     "metadata": {},
     "output_type": "execute_result"
    }
   ],
   "source": [
    "Es, phi = simple_extension(E)"
   ]
  },
  {
   "cell_type": "code",
   "execution_count": 8,
   "metadata": {},
   "outputs": [
    {
     "data": {
      "text/plain": [
       "s2 + s3 + s5"
      ]
     },
     "execution_count": 8,
     "metadata": {},
     "output_type": "execute_result"
    }
   ],
   "source": [
    "phi(gen(Es))"
   ]
  },
  {
   "cell_type": "code",
   "execution_count": 9,
   "metadata": {},
   "outputs": [
    {
     "data": {
      "text/plain": [
       "s2 + s3 + s5"
      ]
     },
     "execution_count": 9,
     "metadata": {},
     "output_type": "execute_result"
    }
   ],
   "source": [
    "sum(g)"
   ]
  },
  {
   "cell_type": "code",
   "execution_count": 10,
   "metadata": {},
   "outputs": [
    {
     "data": {
      "text/html": [
       "($K$, $\\alpha$)"
      ],
      "text/plain": [
       "(Number field over Rational Field with defining polynomial x^3+13*x^2-13*x+13, _$)"
      ]
     },
     "execution_count": 10,
     "metadata": {},
     "output_type": "execute_result"
    }
   ],
   "source": [
    "K, a = wildanger_field(3, -13)"
   ]
  },
  {
   "cell_type": "code",
   "execution_count": 11,
   "metadata": {},
   "outputs": [
    {
     "data": {
      "text/plain": [
       "(Relative number field over\n",
       "Number field over Rational Field with defining polynomial x^3+13*x^2-13*x+13\n",
       " with defining polynomial s^3+(-_$), _$)"
      ]
     },
     "execution_count": 11,
     "metadata": {},
     "output_type": "execute_result"
    }
   ],
   "source": [
    "Ks, s = K[\"s\"];\n",
    "F, f = number_field(s^3-2a+a)"
   ]
  },
  {
   "cell_type": "code",
   "execution_count": 12,
   "metadata": {},
   "outputs": [
    {
     "data": {
      "text/html": [
       "($\\text{Abelian Group with Invariants: }Z/6$, $\\text{Map from }\\text{Abelian Group with Invariants: }Z/6\\to \\text{Set of ideals of }\\mathcal O_K$)"
      ],
      "text/plain": [
       "(GrpAb: Z/6, ClassGroup map of \n",
       "Set of ideals of O_K\n",
       ")"
      ]
     },
     "execution_count": 12,
     "metadata": {},
     "output_type": "execute_result"
    }
   ],
   "source": [
    "class_group(K)"
   ]
  },
  {
   "cell_type": "code",
   "execution_count": 13,
   "metadata": {},
   "outputs": [
    {
     "name": "stdout",
     "output_type": "stream",
     "text": [
      "  0.007622 seconds (9.21 k allocations: 428.771 KiB)\n"
     ]
    },
    {
     "data": {
      "text/plain": [
       "Class field defined mod (<1, 1>, InfPlc[]) of structure Abelian group with structure: Z/6"
      ]
     },
     "execution_count": 13,
     "metadata": {},
     "output_type": "execute_result"
    }
   ],
   "source": [
    "@time H = hilbert_class_field(K)"
   ]
  },
  {
   "cell_type": "code",
   "execution_count": 14,
   "metadata": {},
   "outputs": [
    {
     "name": "stdout",
     "output_type": "stream",
     "text": [
      " 15.110408 seconds (17.78 M allocations: 894.758 MiB, 1.26% gc time)\n"
     ]
    },
    {
     "data": {
      "text/plain": [
       "non-simple Relative number field over\n",
       "Number field over Rational Field with defining polynomial x^3+13*x^2-13*x+13\n",
       " with defining polynomials AbstractAlgebra.Generic.MPoly{nf_elem}[_$1^2+(2*_$^2 + 30*_$ + 23), _$2^3+(-3*_$^2)*_$2+(-_$^2 + 1*_$ - 1)]"
      ]
     },
     "execution_count": 14,
     "metadata": {},
     "output_type": "execute_result"
    }
   ],
   "source": [
    "@time number_field(H)"
   ]
  },
  {
   "cell_type": "code",
   "execution_count": 15,
   "metadata": {},
   "outputs": [],
   "source": [
    "Ha, psi, inj =  absolute_field(ans);"
   ]
  },
  {
   "cell_type": "code",
   "execution_count": 16,
   "metadata": {},
   "outputs": [
    {
     "data": {
      "text/html": [
       "($CH$, $rho_H: CH\\to \\text{Set of ideals of }\\mathcal O_Ha$)"
      ],
      "text/plain": [
       "(GrpAb: Z/1, ClassGroup map of \n",
       "Set of ideals of O_Ha\n",
       ")"
      ]
     },
     "execution_count": 16,
     "metadata": {},
     "output_type": "execute_result"
    }
   ],
   "source": [
    "CH, rho_H = class_group(Ha)"
   ]
  },
  {
   "cell_type": "code",
   "execution_count": 17,
   "metadata": {},
   "outputs": [],
   "source": [
    "CK, rho_K = class_group(K);"
   ]
  },
  {
   "cell_type": "code",
   "execution_count": 18,
   "metadata": {},
   "outputs": [
    {
     "name": "stdout",
     "output_type": "stream",
     "text": [
      "(isprincipal(J))[1] = true\n",
      "(isprincipal(J))[1] = true\n",
      "(isprincipal(J))[1] = true\n",
      "(isprincipal(J))[1] = true\n",
      "(isprincipal(J))[1] = true\n",
      "(isprincipal(J))[1] = true\n"
     ]
    }
   ],
   "source": [
    " for c in CK\n",
    "    I = rho_K(c) \n",
    "    J = inj(I)\n",
    "    @show isprincipal(J)[1]\n",
    "  end\n"
   ]
  },
  {
   "cell_type": "code",
   "execution_count": 19,
   "metadata": {},
   "outputs": [
    {
     "data": {
      "text/html": [
       "($R$, $mR: R\\to \\text{Factored elements over }\\text{Set of ideals of }\\mathcal O_K$)"
      ],
      "text/plain": [
       "((General) abelian group with relation matrix\n",
       "[6  -38  -1]\n",
       "[0   48   0]\n",
       "[0    0   6]\n",
       "[0   24   3]\n",
       "[0   36   3], Map with following data\n",
       "Domain:\n",
       "=======\n",
       "R\n",
       "Codomain:\n",
       "=========\n",
       "Factored elements over Set of ideals of O_K\n",
       "\n",
       ")"
      ]
     },
     "execution_count": 19,
     "metadata": {},
     "output_type": "execute_result"
    }
   ],
   "source": [
    "R, mR = ray_class_group(7*maximal_order(K))"
   ]
  },
  {
   "cell_type": "code",
   "execution_count": 20,
   "metadata": {},
   "outputs": [
    {
     "data": {
      "text/html": [
       "$\\text{GrpAb: }Z/6 \\times Z/36$"
      ],
      "text/plain": [
       "GrpAb: Z/6 x Z/36"
      ]
     },
     "execution_count": 20,
     "metadata": {},
     "output_type": "execute_result"
    }
   ],
   "source": [
    "snf(R)[1]"
   ]
  },
  {
   "cell_type": "code",
   "execution_count": 21,
   "metadata": {},
   "outputs": [
    {
     "data": {
      "text/plain": [
       "Class field defined mod (<7, 7>, InfPlc[]) of structure Abelian group with structure: Z/6 x Z/36"
      ]
     },
     "execution_count": 21,
     "metadata": {},
     "output_type": "execute_result"
    }
   ],
   "source": [
    "ray_class_field(mR)"
   ]
  },
  {
   "cell_type": "code",
   "execution_count": 22,
   "metadata": {},
   "outputs": [
    {
     "data": {
      "text/plain": [
       "non-simple Relative number field over\n",
       "Number field over Rational Field with defining polynomial x^3+13*x^2-13*x+13\n",
       " with defining polynomials AbstractAlgebra.Generic.MPoly{nf_elem}[_$1^2+(55*_$^2 + 728*_$ - 624), _$2^3+(-21)*_$2+(7), _$3^4+(24*_$^2 + 168*_$ - 2692)*_$3^2+(116624*_$^2 + 1433600*_$ - 2751696), _$4^9+(7992*_$^2 + 183330*_$ - 119961)*_$4^7+(1181169*_$^2 + 17649009*_$ - 10140120)*_$4^6+(250669566*_$^2 - 14128191315*_$ + 2749389237)*_$4^5+(26848523250*_$^2 + 1499740913601*_$ - 617137860168)*_$4^4+(98014626041949*_$^2 + 1999072651914576*_$ - 432398432339019)*_$4^3+(33003456489791847*_$^2 + 397146658835584728*_$ - 48049351102287378)*_$4^2+(2760105704783326695*_$^2 + 34103645797126336011*_$ - 11918835411934236732)*_$4+(-3309045538583220732*_$^2 + 286098771220313149539*_$ - 277423454161135364238)]"
      ]
     },
     "execution_count": 22,
     "metadata": {},
     "output_type": "execute_result"
    }
   ],
   "source": [
    "number_field(ans)"
   ]
  },
  {
   "cell_type": "code",
   "execution_count": 23,
   "metadata": {},
   "outputs": [],
   "source": [
    "q, mq = quo(R, [3*g for g = gens(R)]);"
   ]
  },
  {
   "cell_type": "code",
   "execution_count": 24,
   "metadata": {},
   "outputs": [
    {
     "data": {
      "text/plain": [
       "Class field defined mod (<7, 7>, InfPlc[]) of structure Abelian group with structure: Z/3^2"
      ]
     },
     "execution_count": 24,
     "metadata": {},
     "output_type": "execute_result"
    }
   ],
   "source": [
    "ray_class_field(mR, mq)"
   ]
  },
  {
   "cell_type": "code",
   "execution_count": 25,
   "metadata": {},
   "outputs": [
    {
     "name": "stdout",
     "output_type": "stream",
     "text": [
      "non-simple Relative number field over\n",
      "Number field over Rational Field with defining polynomial x^3+13*x^2-13*x+13\n",
      " with defining polynomials AbstractAlgebra.Generic.MPoly{nf_elem}[_$1^3+(861*_$^2 + 13230*_$ + 3066)*_$1+(-791434*_$^2 - 9710575*_$ + 18971442)]\n",
      "non-simple Relative number field over\n",
      "Number field over Rational Field with defining polynomial x^3+13*x^2-13*x+13\n",
      " with defining polynomials AbstractAlgebra.Generic.MPoly{nf_elem}[_$1^3+(861*_$^2 + 13230*_$ + 3066)*_$1+(1168118*_$^2 + 15091706*_$ - 17234910)]\n",
      "non-simple Relative number field over\n",
      "Number field over Rational Field with defining polynomial x^3+13*x^2-13*x+13\n",
      " with defining polynomials AbstractAlgebra.Generic.MPoly{nf_elem}[_$1^3+(-21)*_$1+(7)]\n",
      "non-simple Relative number field over\n",
      "Number field over Rational Field with defining polynomial x^3+13*x^2-13*x+13\n",
      " with defining polynomials AbstractAlgebra.Generic.MPoly{nf_elem}[_$1^3+(123*_$^2 + 1890*_$ + 438)*_$1+(-53812*_$^2 - 768733*_$ - 248076)]\n"
     ]
    }
   ],
   "source": [
    "for s = subgroups(R, quotype = [3])\n",
    "    q, mq = quo(R, s[1])\n",
    "    A = ray_class_field(mR, mq)\n",
    "    println(number_field(A))\n",
    "end"
   ]
  },
  {
   "cell_type": "code",
   "execution_count": 26,
   "metadata": {},
   "outputs": [
    {
     "data": {
      "text/html": [
       "($R$, $mR: R\\to \\text{Factored elements over }\\text{Set of ideals of }ZK$)"
      ],
      "text/plain": [
       "((General) abelian group with relation matrix\n",
       "[2  -1  -1  -1  -1  -1  0  -1]\n",
       "[0   2   0   0   0   0  0   0]\n",
       "[0   0   2   0   0   0  0   0]\n",
       "[0   0   0   2   0   0  0   0]\n",
       "[0   0   0   0   2   0  0   0]\n",
       "[0   0   0   0   0   8  0   0]\n",
       "[0   0   0   0   0   0  2   0]\n",
       "[0   0   0   0   0   0  0   2]\n",
       "[0   1   1   1   0   0  0   1]\n",
       "[0   1   1   1   1   3  0   1]\n",
       "[2   0   0   0   0   0  0   0]\n",
       "[0   2   0   0   0   0  0   0]\n",
       "[0   0   2   0   0   0  0   0]\n",
       "[0   0   0   2   0   0  0   0]\n",
       "[0   0   0   0   2   0  0   0]\n",
       "[0   0   0   0   0   2  0   0]\n",
       "[0   0   0   0   0   0  2   0]\n",
       "[0   0   0   0   0   0  0   2], Map with following data\n",
       "Domain:\n",
       "=======\n",
       "R\n",
       "Codomain:\n",
       "=========\n",
       "Factored elements over Set of ideals of O_K\n",
       "\n",
       ")"
      ]
     },
     "execution_count": 26,
     "metadata": {},
     "output_type": "execute_result"
    }
   ],
   "source": [
    "ZK = maximal_order(K)\n",
    "d = discriminant(ZK)\n",
    "R, mR = ray_class_group(d*ZK, real_places(K), n_quo = 2)"
   ]
  },
  {
   "cell_type": "code",
   "execution_count": null,
   "metadata": {},
   "outputs": [],
   "source": [
    "for s = subgroups(R, quotype = [2])\n",
    "  q, mq = quo(R, s[1])\n",
    "  global A = ray_class_field(mR, mq)\n",
    "  if isnormal(A)\n",
    "    break\n",
    "  end\n",
    "end\n"
   ]
  },
  {
   "cell_type": "code",
   "execution_count": null,
   "metadata": {},
   "outputs": [],
   "source": [
    "conductor(A)"
   ]
  },
  {
   "cell_type": "code",
   "execution_count": null,
   "metadata": {},
   "outputs": [],
   "source": [
    "C = cyclotomic_field(ClassField, minimum(ans[1]))"
   ]
  },
  {
   "cell_type": "code",
   "execution_count": null,
   "metadata": {},
   "outputs": [],
   "source": [
    "B = maximal_abelian_subfield(A, QQ)"
   ]
  },
  {
   "cell_type": "code",
   "execution_count": null,
   "metadata": {},
   "outputs": [],
   "source": [
    "B ⊆ C"
   ]
  },
  {
   "cell_type": "code",
   "execution_count": null,
   "metadata": {},
   "outputs": [],
   "source": []
  }
 ],
 "metadata": {
  "@webio": {
   "lastCommId": null,
   "lastKernelId": null
  },
  "kernelspec": {
   "display_name": "Julia 1.4.0-rc1",
   "language": "julia",
   "name": "julia-1.4"
  },
  "language_info": {
   "file_extension": ".jl",
   "mimetype": "application/julia",
   "name": "julia",
   "version": "1.4.0"
  }
 },
 "nbformat": 4,
 "nbformat_minor": 2
}
