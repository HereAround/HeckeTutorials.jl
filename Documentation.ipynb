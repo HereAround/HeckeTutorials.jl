{
 "cells": [
  {
   "cell_type": "markdown",
   "metadata": {
    "slideshow": {
     "slide_type": "slide"
    }
   },
   "source": [
    "# Working on the documentation"
   ]
  },
  {
   "cell_type": "markdown",
   "metadata": {
    "slideshow": {
     "slide_type": "slide"
    }
   },
   "source": [
    "## Docstrings\n",
    "\n",
    "Exported function should have docstrings, which look like\n",
    "```julia\n",
    "Markdown.@doc doc\"\"\"\n",
    "    functionname(x::ArgumentType, b::OtherArgument; c::Keyword = default) -> Int, Int\n",
    "\n",
    "A short description of the function. It is allowed to use $\\LaTeX$.\n",
    "\"\"\"\n",
    "functionname(x...,b...; c = ...)\n",
    "```\n",
    "If the signature is too long, use linebreaks\n",
    "```julia\n",
    "Markdown.@doc doc\"\"\"\n",
    "    functionname(x::ArgumentType, b::OtherArgument; c::Keyword = default)\n",
    "                                                                    -> Int, Int\n",
    "\n",
    "\"\"\"\n",
    "```\n",
    "or\n",
    "```julia\n",
    "Markdown.@doc doc\"\"\"\n",
    "    functionname(x::ArgumentType, b::OtherArgument;\n",
    "                                  c::Keyword = default) -> Int, Int\n",
    "\n",
    "\"\"\"\n",
    "```\n",
    "to fit 80 characters."
   ]
  },
  {
   "cell_type": "markdown",
   "metadata": {
    "slideshow": {
     "slide_type": "slide"
    }
   },
   "source": [
    "If the function is sufficiently complicated, docstrings can have examples\n",
    "````julia\n",
    "Markdown.@doc doc\"\"\"\n",
    "    f(x::Int, y::Int) -> Int\n",
    "\n",
    "Return the sum of `x` and `y`\n",
    "\n",
    "# Example\n",
    "\n",
    "```\n",
    "julia> f(1, 2)\n",
    "3\n",
    "```\n",
    "\"\"\"\n",
    "````"
   ]
  },
  {
   "cell_type": "markdown",
   "metadata": {
    "slideshow": {
     "slide_type": "slide"
    }
   },
   "source": [
    "## Modifying the online documentation\n",
    "\n",
    "The source for the online documentation can be found in `Hecke/docs/src`. The layout of the documentation is found at the bottom of `docs/mkdocs.yml`.\n",
    "\n",
    "The documentation consists of arbitray Markdown text (with LaTeX support). Docstrings can be inserted by using the `@docs` macro. For example:\n",
    "\n",
    "````\n",
    "Here are some basic functions for quadratic and Hermitian spaces:\n",
    "\n",
    "```@docs\n",
    "rank(::AbsSpace)\n",
    "dim(::AbsSpace)\n",
    "gram_matrix(::AbsSpace)\n",
    "```\n",
    "````\n",
    "See `/docs/src/quad_form/basics.md`."
   ]
  },
  {
   "cell_type": "markdown",
   "metadata": {
    "slideshow": {
     "slide_type": "slide"
    }
   },
   "source": [
    "## Building the documentation locally\n",
    "\n",
    "Navigate to `Hecke.jl/docs` and run `julia --project=. make.jl`. "
   ]
  }
 ],
 "metadata": {
  "celltoolbar": "Slideshow",
  "kernelspec": {
   "display_name": "Julia 1.5.1",
   "language": "julia",
   "name": "julia-1.5"
  },
  "language_info": {
   "file_extension": ".jl",
   "mimetype": "application/julia",
   "name": "julia",
   "version": "1.5.1"
  }
 },
 "nbformat": 4,
 "nbformat_minor": 4
}
