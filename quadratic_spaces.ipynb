{
 "cells": [
  {
   "cell_type": "code",
   "execution_count": 14,
   "metadata": {},
   "outputs": [],
   "source": [
    "using Hecke;"
   ]
  },
  {
   "cell_type": "code",
   "execution_count": 2,
   "metadata": {},
   "outputs": [
    {
     "data": {
      "text/html": [
       "($Qx$, $x$)"
      ],
      "text/plain": [
       "(Univariate Polynomial Ring in x over Rational Field, x)"
      ]
     },
     "execution_count": 2,
     "metadata": {},
     "output_type": "execute_result"
    }
   ],
   "source": [
    "Qx, x = PolynomialRing(FlintQQ, \"x\")"
   ]
  },
  {
   "cell_type": "code",
   "execution_count": 3,
   "metadata": {},
   "outputs": [
    {
     "data": {
      "text/html": [
       "($K$, $a$)"
      ],
      "text/plain": [
       "(Number field over Rational Field with defining polynomial x^2-5, a)"
      ]
     },
     "execution_count": 3,
     "metadata": {},
     "output_type": "execute_result"
    }
   ],
   "source": [
    "K, a = NumberField(x^2 - 5, \"a\")"
   ]
  },
  {
   "cell_type": "code",
   "execution_count": 4,
   "metadata": {},
   "outputs": [
    {
     "data": {
      "text/html": [
       "$\\begin{bmatrix}382a+2054&70a+350&4&8&8a+8\\\\70a+350&14a+70&0&0&0\\\\4&0&4&0&0\\\\8&0&0&4&0\\\\8a+8&0&0&0&2a+2\\\\\\end{bmatrix}$"
      ],
      "text/plain": [
       "[382*a+2054 70*a+350 4 8 8*a+8]\n",
       "[70*a+350 14*a+70 0 0 0]\n",
       "[4 0 4 0 0]\n",
       "[8 0 0 4 0]\n",
       "[8*a+8 0 0 0 2*a+2]"
      ]
     },
     "execution_count": 4,
     "metadata": {},
     "output_type": "execute_result"
    }
   ],
   "source": [
    "G = matrix(K, 5, 5,[382*a+2054, 70*a+350, 4, 8, 8*a+8, 70*a+350, 14*a+70, 0, 0, 0, 4, 0, 4, 0, 0, 8, 0, 0, 4, 0, 8*a+8, 0, 0, 0, 2*a+2])"
   ]
  },
  {
   "cell_type": "code",
   "execution_count": 5,
   "metadata": {},
   "outputs": [
    {
     "data": {
      "text/plain": [
       "Quadratic space over\n",
       "Number field over Rational Field with defining polynomial x^2-5\n",
       "with Gram matrix\n",
       "[382*a+2054 70*a+350 4 8 8*a+8]\n",
       "[70*a+350 14*a+70 0 0 0]\n",
       "[4 0 4 0 0]\n",
       "[8 0 0 4 0]\n",
       "[8*a+8 0 0 0 2*a+2]"
      ]
     },
     "execution_count": 5,
     "metadata": {},
     "output_type": "execute_result"
    }
   ],
   "source": [
    "V = quadratic_space(K, G)"
   ]
  },
  {
   "cell_type": "code",
   "execution_count": 6,
   "metadata": {},
   "outputs": [],
   "source": [
    "OK = maximal_order(K);"
   ]
  },
  {
   "cell_type": "code",
   "execution_count": 7,
   "metadata": {},
   "outputs": [
    {
     "data": {
      "text/html": [
       "$-1$"
      ],
      "text/plain": [
       "-1"
      ]
     },
     "execution_count": 7,
     "metadata": {},
     "output_type": "execute_result"
    }
   ],
   "source": [
    "hasse_invariant(V, 2 * OK)"
   ]
  },
  {
   "cell_type": "code",
   "execution_count": 8,
   "metadata": {},
   "outputs": [
    {
     "data": {
      "text/html": [
       "$1$"
      ],
      "text/plain": [
       "1"
      ]
     },
     "execution_count": 8,
     "metadata": {},
     "output_type": "execute_result"
    }
   ],
   "source": [
    "hasse_invariant(V, real_places(K)[1])"
   ]
  },
  {
   "cell_type": "code",
   "execution_count": 9,
   "metadata": {},
   "outputs": [
    {
     "data": {
      "text/html": [
       "false"
      ],
      "text/plain": [
       "false"
      ]
     },
     "execution_count": 9,
     "metadata": {},
     "output_type": "execute_result"
    }
   ],
   "source": [
    "isequivalent(V, quadratic_space(K, 5), real_places(K)[1])"
   ]
  },
  {
   "cell_type": "code",
   "execution_count": 10,
   "metadata": {},
   "outputs": [
    {
     "data": {
      "text/html": [
       "false"
      ],
      "text/plain": [
       "false"
      ]
     },
     "execution_count": 10,
     "metadata": {},
     "output_type": "execute_result"
    }
   ],
   "source": [
    "isequivalent(V, quadratic_space(K, 5))"
   ]
  },
  {
   "cell_type": "code",
   "execution_count": 11,
   "metadata": {},
   "outputs": [
    {
     "data": {
      "text/plain": [
       "(677376*a+1128960, Dict(<2, 2>=>-1,<7, 7>=>-1), Tuple{InfPlc,Int64}[(Real place of \n",
       "Number field over Rational Field with defining polynomial x^2-5\n",
       "corresponding to the root [-2.2360679774997896964091736687312762354 +/- 6.13e-38] + i*0, 1), (Real place of \n",
       "Number field over Rational Field with defining polynomial x^2-5\n",
       "corresponding to the root [2.2360679774997896964091736687312762354 +/- 6.13e-38] + i*0, 0)])"
      ]
     },
     "execution_count": 11,
     "metadata": {},
     "output_type": "execute_result"
    }
   ],
   "source": [
    "invariants(V)"
   ]
  },
  {
   "cell_type": "code",
   "execution_count": 12,
   "metadata": {},
   "outputs": [
    {
     "data": {
      "text/latex": [
       "\\begin{verbatim}\n",
       "invariants(M::QuadSpace)\n",
       "      -> FieldElem, Dict{NfOrdIdl, Int}, Vector{Tuple{InfPlc, Int}}\n",
       "\\end{verbatim}\n",
       "Returns a triple \\texttt{(d, H, I)} of invariants of \\texttt{M}, which determine the equivalence class completely. The element \\texttt{d} is the determinant of a Gram matrix, \\texttt{H} contains the non-trivial Hasse invariants and \\texttt{I} containes for each real place the negative index of inertia.\n",
       "\n"
      ],
      "text/markdown": [
       "```\n",
       "invariants(M::QuadSpace)\n",
       "      -> FieldElem, Dict{NfOrdIdl, Int}, Vector{Tuple{InfPlc, Int}}\n",
       "```\n",
       "\n",
       "Returns a triple `(d, H, I)` of invariants of `M`, which determine the equivalence class completely. The element `d` is the determinant of a Gram matrix, `H` contains the non-trivial Hasse invariants and `I` containes for each real place the negative index of inertia.\n"
      ],
      "text/plain": [
       "\u001b[36m  invariants(M::QuadSpace)\u001b[39m\n",
       "\u001b[36m        -> FieldElem, Dict{NfOrdIdl, Int}, Vector{Tuple{InfPlc, Int}}\u001b[39m\n",
       "\n",
       "  Returns a triple \u001b[36m(d, H, I)\u001b[39m of invariants of \u001b[36mM\u001b[39m, which determine the\n",
       "  equivalence class completely. The element \u001b[36md\u001b[39m is the determinant of a Gram\n",
       "  matrix, \u001b[36mH\u001b[39m contains the non-trivial Hasse invariants and \u001b[36mI\u001b[39m containes for each\n",
       "  real place the negative index of inertia."
      ]
     },
     "execution_count": 12,
     "metadata": {},
     "output_type": "execute_result"
    }
   ],
   "source": [
    "?invariants(V)"
   ]
  },
  {
   "cell_type": "code",
   "execution_count": 13,
   "metadata": {},
   "outputs": [
    {
     "data": {
      "text/plain": [
       "(1, Dict{NfAbsOrdIdl{AnticNumberField,nf_elem},Int64}(), Tuple{InfPlc,Int64}[(Real place of \n",
       "Number field over Rational Field with defining polynomial x^2-5\n",
       "corresponding to the root [-2.2360679774997896964091736687312762354 +/- 6.13e-38] + i*0, 0), (Real place of \n",
       "Number field over Rational Field with defining polynomial x^2-5\n",
       "corresponding to the root [2.2360679774997896964091736687312762354 +/- 6.13e-38] + i*0, 0)])"
      ]
     },
     "execution_count": 13,
     "metadata": {},
     "output_type": "execute_result"
    }
   ],
   "source": [
    "invariants(quadratic_space(K, 5))"
   ]
  },
  {
   "cell_type": "code",
   "execution_count": null,
   "metadata": {},
   "outputs": [],
   "source": []
  }
 ],
 "metadata": {
  "kernelspec": {
   "display_name": "Julia 1.1.0",
   "language": "julia",
   "name": "julia-1.1"
  },
  "language_info": {
   "file_extension": ".jl",
   "mimetype": "application/julia",
   "name": "julia",
   "version": "1.1.0"
  }
 },
 "nbformat": 4,
 "nbformat_minor": 2
}
